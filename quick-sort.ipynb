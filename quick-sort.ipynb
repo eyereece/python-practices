{
 "cells": [
  {
   "attachments": {},
   "cell_type": "markdown",
   "metadata": {},
   "source": [
    "We'll do two things with quick sort:\n",
    "1. create a pivot helper function\n",
    "2. create the actual quick sort function"
   ]
  },
  {
   "attachments": {},
   "cell_type": "markdown",
   "metadata": {},
   "source": [
    "Pivot Function will do 2 things:\n",
    "1. it's going to get the list to a point where the pivot index is going to be in the middle, with the lesser than numbers at the front or left, and the greater than numbers on the right.\n",
    "2. it will also return the index of the pivot"
   ]
  },
  {
   "cell_type": "code",
   "execution_count": 3,
   "metadata": {},
   "outputs": [
    {
     "name": "stdout",
     "output_type": "stream",
     "text": [
      "3\n",
      "[2, 1, 3, 4, 6, 7, 5]\n"
     ]
    }
   ],
   "source": [
    "def swap(my_list, index1, index2):\n",
    "    temp = my_list[index1]\n",
    "    my_list[index1] = my_list[index2]\n",
    "    my_list[index2] = temp\n",
    "\n",
    "def pivot(my_list, pivot_index, end_index):\n",
    "    swap_index = pivot_index\n",
    "\n",
    "    for i in range(pivot_index+1, end_index+1):\n",
    "        if my_list[i] < my_list[pivot_index]:\n",
    "            swap_index += 1\n",
    "            swap(my_list, swap_index, i)\n",
    "    swap(my_list, pivot_index, swap_index)\n",
    "    return swap_index\n",
    "\n",
    "my_list = [4, 6, 1, 7, 3, 2, 5]\n",
    "print(pivot(my_list, 0, 6))\n",
    "print(my_list)"
   ]
  },
  {
   "cell_type": "code",
   "execution_count": 4,
   "metadata": {},
   "outputs": [
    {
     "name": "stdout",
     "output_type": "stream",
     "text": [
      "[1, 2, 3, 4, 5, 6, 7]\n"
     ]
    }
   ],
   "source": [
    "def swap(my_list, index1, index2):\n",
    "    temp = my_list[index1]\n",
    "    my_list[index1] = my_list[index2]\n",
    "    my_list[index2] = temp\n",
    "\n",
    "def pivot(my_list, pivot_index, end_index):\n",
    "    swap_index = pivot_index\n",
    "\n",
    "    for i in range(pivot_index+1, end_index+1):\n",
    "        if my_list[i] < my_list[pivot_index]:\n",
    "            swap_index += 1\n",
    "            swap(my_list, swap_index, i)\n",
    "    swap(my_list, pivot_index, swap_index)\n",
    "    return swap_index\n",
    "\n",
    "def quick_sort_helper(my_list, left, right):\n",
    "    if left < right:\n",
    "        pivot_index = pivot(my_list, left, right)\n",
    "        quick_sort_helper(my_list, left, pivot_index-1)\n",
    "        quick_sort_helper(my_list, pivot_index+1, right)\n",
    "    return my_list\n",
    "\n",
    "def quick_sort(my_list):\n",
    "    return quick_sort_helper(my_list, 0, len(my_list) - 1)\n",
    "\n",
    "print(quick_sort([4, 6, 1, 7, 3, 2, 5]))"
   ]
  }
 ],
 "metadata": {
  "kernelspec": {
   "display_name": "Python 3",
   "language": "python",
   "name": "python3"
  },
  "language_info": {
   "codemirror_mode": {
    "name": "ipython",
    "version": 3
   },
   "file_extension": ".py",
   "mimetype": "text/x-python",
   "name": "python",
   "nbconvert_exporter": "python",
   "pygments_lexer": "ipython3",
   "version": "3.11.3"
  },
  "orig_nbformat": 4
 },
 "nbformat": 4,
 "nbformat_minor": 2
}
